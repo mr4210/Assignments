{
 "cells": [
  {
   "cell_type": "markdown",
   "id": "c5726cbd-e32a-437b-bfe7-b88a0eeab933",
   "metadata": {},
   "source": [
    "## Assignment 2\n"
   ]
  },
  {
   "cell_type": "markdown",
   "id": "3beb797b-8f21-4f41-beb5-7643354f4f88",
   "metadata": {},
   "source": [
    "#### Part 1: Lists\n"
   ]
  },
  {
   "cell_type": "code",
   "execution_count": 43,
   "id": "b11ceb5a-dbc3-4c01-b319-b229ae7e8766",
   "metadata": {},
   "outputs": [
    {
     "data": {
      "text/plain": [
       "['mercury', 'venus', 'earth', 'mars', 'jupiter', 'saturn', 'uranus', 'neptune']"
      ]
     },
     "execution_count": 43,
     "metadata": {},
     "output_type": "execute_result"
    }
   ],
   "source": [
    "# 1 Create a list with the names of every planet in the solar system (in order)\n",
    "\n",
    "l = [\"mercury\", \"venus\", \"earth\", \"mars\", \"jupiter\", \"saturn\", \"uranus\", \"neptune\"]\n",
    "planets = l\n",
    "l\n",
    "planets"
   ]
  },
  {
   "cell_type": "code",
   "execution_count": 44,
   "id": "6463e04b-1b3e-4313-8bce-40c50624fde0",
   "metadata": {},
   "outputs": [
    {
     "data": {
      "text/plain": [
       "8"
      ]
     },
     "execution_count": 44,
     "metadata": {},
     "output_type": "execute_result"
    }
   ],
   "source": [
    "# 2 Have Python tell you how many planets there are by examining your list\n",
    "\n",
    "len(l)\n",
    "len(planets)"
   ]
  },
  {
   "cell_type": "code",
   "execution_count": 45,
   "id": "c5a9a8cd-5154-4c5d-a584-169c45e5c127",
   "metadata": {},
   "outputs": [
    {
     "data": {
      "text/plain": [
       "['earth', 'mars', 'mercury', 'venus']"
      ]
     },
     "execution_count": 45,
     "metadata": {},
     "output_type": "execute_result"
    }
   ],
   "source": [
    "# 3 Use slicing to display the first four planets (the rocky planets)\n",
    "\n",
    "sorted (l[0:4]) # slicing the original list"
   ]
  },
  {
   "cell_type": "code",
   "execution_count": 46,
   "id": "b432c0fa-7e06-4231-9221-1d7adab1be5c",
   "metadata": {},
   "outputs": [
    {
     "name": "stdout",
     "output_type": "stream",
     "text": [
      "venus\n",
      "mars\n",
      "uranus\n"
     ]
    }
   ],
   "source": [
    "# 4 Iterate through your planets and print the planet name only if it has an s at the end\n",
    "\n",
    "planets\n",
    "\n",
    "for word in planets:\n",
    "    if word.endswith ('s'):\n",
    "        print (word)"
   ]
  },
  {
   "cell_type": "markdown",
   "id": "1c78afa0-1a19-4a1a-bec3-5af324a239f0",
   "metadata": {},
   "source": [
    "#### Part 2: Functions\n",
    "1. Write a function to convert temperature from kelvin to celsius and celsius to kelvin\n",
    "\n",
    "2. Write a function to convert temperature to fahrenheit. Include an optional keyword argument to specify whether the input is in celcius or kelvin. Call your previously defined functions if necessary.\n",
    "\n",
    "3) Check that the outputs are sensible by trying a few examples\n",
    "   \n",
    "5) Now write a function that converts from farenheit and uses a keyword argument to specify whether you want the output in celcius or kelvin\n",
    "   \n",
    "5) Write a function that takes two arguments (feet and inches) and returns height in meters. Verify it gives sensible answers\n",
    "   \n",
    "6. Write a function takes one argument (height in meters) and returns two arguments (feet and inches) (Consult the tutorial on numbers if you are stuck on how to implement this.)\n",
    "   \n",
    "7) Verify that the “round trip” conversion from and back to meters is consistent. Check for 3 different values of height in meters\n"
   ]
  },
  {
   "cell_type": "code",
   "execution_count": 83,
   "id": "c0c3146d-0dbd-47b1-b710-7a3cd85cc59c",
   "metadata": {},
   "outputs": [
    {
     "data": {
      "text/plain": [
       "-223.14999999999998"
      ]
     },
     "execution_count": 83,
     "metadata": {},
     "output_type": "execute_result"
    }
   ],
   "source": [
    "# 1. Write a function to convert temperature from kelvin to celsius and celsius to kelvin\n",
    "# formula for Kelvin to Celcius: Kelvin = Celsius + 273.15.\n",
    "\n",
    "def tk_to_tc (kelvin):\n",
    "    celcius = kelvin - 273.15\n",
    "    return celcius\n",
    "\n",
    "tk_to_tc (50)"
   ]
  },
  {
   "cell_type": "code",
   "execution_count": 31,
   "id": "3f362f1f-dc20-45e5-9112-ed5b95a502d9",
   "metadata": {},
   "outputs": [
    {
     "data": {
      "text/plain": [
       "131.0"
      ]
     },
     "execution_count": 31,
     "metadata": {},
     "output_type": "execute_result"
    }
   ],
   "source": [
    "# 2. Write a function to convert temperature to fahrenheit. Include an optional keyword argument to specify whether the input is in celcius or kelvin. \n",
    "# Formula F to C ->  (32°F − 32) × 5/9 = 0°C\n",
    "# Formula F to K -> (32°F − 32) × 5/9 + 273.15 = 273.15K\n",
    "\n",
    "\n",
    "def temp_to_fahr (temp, unit):\n",
    "    if unit == 'C':\n",
    "        fahrenheit = (temp * 9/5) + 32\n",
    "    elif unit == 'K':\n",
    "        fahrenheit = (temp - 273.15) * 9/5 + 32\n",
    "    else:\n",
    "        raise valueerror (\"Units must be in 'C' for Celcius or 'K' for Kelvin\")\n",
    "\n",
    "    return fahrenheit \n",
    "\n",
    "    \n",
    "\n",
    "temp_to_fahr (55, 'C')"
   ]
  },
  {
   "cell_type": "code",
   "execution_count": 32,
   "id": "f80b369b-9bc5-45bc-982d-d9a74349c49d",
   "metadata": {},
   "outputs": [
    {
     "data": {
      "text/plain": [
       "69.8"
      ]
     },
     "execution_count": 32,
     "metadata": {},
     "output_type": "execute_result"
    }
   ],
   "source": [
    "# 3) Check that the outputs are sensible by trying a few examples\n",
    "\n",
    "temp_to_fahr (21, 'C')"
   ]
  },
  {
   "cell_type": "code",
   "execution_count": 29,
   "id": "d9cd5dde-7d3b-462d-b767-2b467c656a7a",
   "metadata": {},
   "outputs": [
    {
     "data": {
      "text/plain": [
       "(304.81666666666666, '°K')"
      ]
     },
     "execution_count": 29,
     "metadata": {},
     "output_type": "execute_result"
    }
   ],
   "source": [
    "# 5) Write a function that converts from farenheit and uses a keyword argument to specify whether you want the output in celcius or kelvin\n",
    "# Formula F to C ->  (32°F − 32) × 5/9 = 0°C\n",
    "# Formula F to K -> (32°F − 32) × 5/9 + 273.15 = 273.15K\n",
    "\n",
    "def temp_from_fahr (temp, into_unit='kelvin'):\n",
    "    \n",
    "    if into_unit == 'kelvin':\n",
    "        kelvin = (temp - 32) * 5/9 + 273.15\n",
    "        return kelvin, '°K'\n",
    "    elif into_unit == 'celcius':\n",
    "        celcius = (temp - 32) * 5/9\n",
    "        return celcius, '°C'\n",
    "\n",
    "\n",
    "temp_from_fahr (89, 'kelvin')"
   ]
  },
  {
   "cell_type": "code",
   "execution_count": 30,
   "id": "38e82502-7668-4f46-a54d-601fca89bbda",
   "metadata": {},
   "outputs": [
    {
     "data": {
      "text/plain": [
       "(1.6666666666666667, '°C')"
      ]
     },
     "execution_count": 30,
     "metadata": {},
     "output_type": "execute_result"
    }
   ],
   "source": [
    "temp_from_fahr (35, 'celcius')"
   ]
  },
  {
   "cell_type": "code",
   "execution_count": 40,
   "id": "916b4c6b-7d97-4ef6-a4b2-0862ba72bb5f",
   "metadata": {},
   "outputs": [
    {
     "data": {
      "text/plain": [
       "'1.4500000000000002 meters'"
      ]
     },
     "execution_count": 40,
     "metadata": {},
     "output_type": "execute_result"
    }
   ],
   "source": [
    "# 5) Write a function that takes two arguments (feet and inches) and returns height in meters. Verify it gives sensible answers\n",
    "\n",
    "# 1 foot = 0.304 meters\n",
    "# 1 inch = 0.025 meters\n",
    "\n",
    "def height_to_meters (feet, inches):\n",
    "    total_inches = feet * 12 + inches\n",
    "    meters = total_inches * 0.025\n",
    "    return f\"{meters} meters\"\n",
    "\n",
    "height_to_meters (4, 10)"
   ]
  },
  {
   "cell_type": "code",
   "execution_count": 46,
   "id": "3d2540b3-5d18-493b-8ec7-f14c0d7fc66e",
   "metadata": {},
   "outputs": [
    {
     "data": {
      "text/plain": [
       "'16 feet and 8 inches'"
      ]
     },
     "execution_count": 46,
     "metadata": {},
     "output_type": "execute_result"
    }
   ],
   "source": [
    "# 6. Write a function takes one argument (height in meters) \n",
    "# and returns two arguments (feet and inches)\n",
    "\n",
    "def meters_to_imperial (meters):\n",
    "    total_inches = meters / 0.025\n",
    "    feet = int(total_inches // 12)\n",
    "    inches = int(total_inches % 12)\n",
    "    return f\"{feet} feet and {inches} inches\"\n",
    "\n",
    "\n",
    "meters_to_imperial (5)"
   ]
  },
  {
   "cell_type": "code",
   "execution_count": 50,
   "id": "d16b93d0-9bf4-4792-acba-43daa14fb8e8",
   "metadata": {},
   "outputs": [
    {
     "data": {
      "text/plain": [
       "'0.7000000000000001 meters'"
      ]
     },
     "execution_count": 50,
     "metadata": {},
     "output_type": "execute_result"
    }
   ],
   "source": [
    "# 7) Verify that the “round trip” conversion from and back to meters is consistent. \n",
    "# Check for 3 different values of height in meters\n",
    "\n",
    "height_to_meters (2, 4)"
   ]
  },
  {
   "cell_type": "code",
   "execution_count": 49,
   "id": "bd87d6d7-ccef-4d3b-9769-adc419f15c2f",
   "metadata": {},
   "outputs": [
    {
     "data": {
      "text/plain": [
       "'2 feet and 3 inches'"
      ]
     },
     "execution_count": 49,
     "metadata": {},
     "output_type": "execute_result"
    }
   ],
   "source": [
    "meters_to_imperial (0.7)\n",
    "\n",
    "# rounded down to 0.7)"
   ]
  },
  {
   "cell_type": "code",
   "execution_count": 51,
   "id": "e573cce9-fa78-473f-aa6e-e2e3dec65ef2",
   "metadata": {},
   "outputs": [
    {
     "data": {
      "text/plain": [
       "'3.225 meters'"
      ]
     },
     "execution_count": 51,
     "metadata": {},
     "output_type": "execute_result"
    }
   ],
   "source": [
    "height_to_meters (10, 9)"
   ]
  },
  {
   "cell_type": "code",
   "execution_count": 52,
   "id": "1ad6b2c2-2f48-4d38-b019-a29f995c5458",
   "metadata": {},
   "outputs": [
    {
     "data": {
      "text/plain": [
       "'10 feet and 9 inches'"
      ]
     },
     "execution_count": 52,
     "metadata": {},
     "output_type": "execute_result"
    }
   ],
   "source": [
    "meters_to_imperial (3.225)"
   ]
  },
  {
   "cell_type": "code",
   "execution_count": 53,
   "id": "62cb50a7-50f5-4058-bd00-a93b427f5785",
   "metadata": {},
   "outputs": [
    {
     "data": {
      "text/plain": [
       "'1.625 meters'"
      ]
     },
     "execution_count": 53,
     "metadata": {},
     "output_type": "execute_result"
    }
   ],
   "source": [
    "height_to_meters (5, 5)"
   ]
  },
  {
   "cell_type": "code",
   "execution_count": 54,
   "id": "f13bdb43-26c1-4442-90de-f2dfabe80534",
   "metadata": {},
   "outputs": [
    {
     "data": {
      "text/plain": [
       "'5 feet and 5 inches'"
      ]
     },
     "execution_count": 54,
     "metadata": {},
     "output_type": "execute_result"
    }
   ],
   "source": [
    "meters_to_imperial (1.625)"
   ]
  }
 ],
 "metadata": {
  "kernelspec": {
   "display_name": "Python 3 (ipykernel)",
   "language": "python",
   "name": "python3"
  },
  "language_info": {
   "codemirror_mode": {
    "name": "ipython",
    "version": 3
   },
   "file_extension": ".py",
   "mimetype": "text/x-python",
   "name": "python",
   "nbconvert_exporter": "python",
   "pygments_lexer": "ipython3",
   "version": "3.11.7"
  }
 },
 "nbformat": 4,
 "nbformat_minor": 5
}
